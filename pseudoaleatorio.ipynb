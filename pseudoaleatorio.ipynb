{
 "cells": [
  {
   "cell_type": "code",
   "execution_count": null,
   "metadata": {},
   "outputs": [],
   "source": [
    "#ejercicio 1:\n",
    "a=12\n",
    "c=15\n",
    "m=31\n",
    "x0=21\n",
    "xn=x0\n",
    "i=1\n",
    "while (True):\n",
    "    print('el valor '+str(i)+' es: '+str(xn))\n",
    "    i=i+1\n",
    "    xn=(a*xn+c)%m\n",
    "    if (x0==xn):\n",
    "        print('el valor '+str(i)+' es: '+str(xn)+' es igual a la semilla por lo que a partir de este valor se repetira todos los datos')\n",
    "        break;"
   ]
  },
  {
   "cell_type": "code",
   "execution_count": null,
   "metadata": {},
   "outputs": [],
   "source": [
    "#ejercicio 2:\n",
    "a=13\n",
    "c=9\n",
    "m=128\n",
    "x0=7\n",
    "xn=x0\n",
    "i=1\n",
    "while (True):\n",
    "    print('el valor '+str(i)+' es: '+str(xn))\n",
    "    i=i+1\n",
    "    xn=(a*xn+c)%m\n",
    "    if (x0==xn):\n",
    "        print('el valor '+str(i)+' es: '+str(xn)+' es igual a la semilla por lo que a partir de este valor se repetira todos los datos')\n",
    "        break;"
   ]
  },
  {
   "cell_type": "code",
   "execution_count": null,
   "metadata": {},
   "outputs": [],
   "source": [
    "#ejercicio 3:\n",
    "a=17\n",
    "m=31\n",
    "x0=23\n",
    "xn=x0\n",
    "i=1\n",
    "while (True):\n",
    "    print('el valor '+str(i)+' es: '+str(xn))\n",
    "    i=i+1\n",
    "    xn=(a*xn)%m\n",
    "    if (x0==xn):\n",
    "        print('el valor '+str(i)+' es: '+str(xn)+' es igual a la semilla por lo que a partir de este valor se repetira todos los datos')\n",
    "        break;"
   ]
  },
  {
   "cell_type": "code",
   "execution_count": null,
   "metadata": {},
   "outputs": [],
   "source": [
    "#ejercicio 4:\n",
    "a=1\n",
    "c=121\n",
    "m=256\n",
    "x0=17\n",
    "xn=x0\n",
    "i=1\n",
    "while (True):\n",
    "    print('el valor '+str(i)+' es: '+str(xn))\n",
    "    i=i+1\n",
    "    xn=(a*xn+c)%m\n",
    "    if (x0==xn):\n",
    "        print('el valor '+str(i)+' es: '+str(xn)+' es igual a la semilla por lo que a partir de este valor se repetira todos los datos')\n",
    "        break;"
   ]
  },
  {
   "cell_type": "code",
   "execution_count": null,
   "metadata": {},
   "outputs": [],
   "source": [
    "#ejercicio 5: Nota en las teorias revisadas del metodo congruencial aditivo no se encontro un valor especifico para deducir que los valores \n",
    "# en la cual se repita los valores se repetiran, se intento buscando la repeticion de los valores de x0 y x1 consecutivamente pero el algoritmo sigue ejecutandoce\n",
    "# porque sigue buscando sin encontrar por lo tanto se decidio tomar el valor de repeticion de x1\n",
    "a=21\n",
    "b=15\n",
    "m=64\n",
    "x0=21\n",
    "x1=43\n",
    "t=[x0 , x1]\n",
    "xn0=x0\n",
    "xn1=x1\n",
    "\n",
    "i=1\n",
    "while (True):\n",
    "    i=i+1\n",
    "    xn=(a*xn1+b*xn0)%m\n",
    "    t.append(xn)\n",
    "    \n",
    "    if (t[i]==x1):\n",
    "        t.pop(i)\n",
    "        break\n",
    "    xn0=x1\n",
    "    xn1=xn\n",
    "k=0\n",
    "for j in t:\n",
    "    k=k+1\n",
    "    print('valor '+str(k)+' es: '+str(j))"
   ]
  }
 ],
 "metadata": {
  "language_info": {
   "name": "python"
  },
  "orig_nbformat": 4
 },
 "nbformat": 4,
 "nbformat_minor": 2
}
